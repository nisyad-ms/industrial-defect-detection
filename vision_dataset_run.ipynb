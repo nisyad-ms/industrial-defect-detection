{
 "cells": [
  {
   "cell_type": "code",
   "execution_count": 4,
   "metadata": {},
   "outputs": [
    {
     "data": {
      "text/plain": [
       "True"
      ]
     },
     "execution_count": 4,
     "metadata": {},
     "output_type": "execute_result"
    }
   ],
   "source": [
    "import os\n",
    "from enum import Enum\n",
    "import time\n",
    "from PIL import Image\n",
    "from gpt_client import ContentType, GPTClient\n",
    "from torchvision.transforms import Compose, ToTensor\n",
    "\n",
    "from utils import (\n",
    "    TorchDataset,\n",
    "    convert_tensor_to_base64,\n",
    "    convert_to_base64,\n",
    "    load_local_vision_dataset,\n",
    ")\n",
    "\n",
    "\n",
    "from dotenv import load_dotenv\n",
    "load_dotenv()"
   ]
  },
  {
   "cell_type": "markdown",
   "metadata": {},
   "source": [
    "### Azure OpenAI Resource"
   ]
  },
  {
   "cell_type": "code",
   "execution_count": 5,
   "metadata": {},
   "outputs": [],
   "source": [
    "API_ENDPOINT = os.getenv('AZURE_OPENAI_ENDPOINT')\n",
    "DEPLOYMENT_NAME = os.getenv('DEPLOYMENT_NAME')"
   ]
  },
  {
   "cell_type": "markdown",
   "metadata": {},
   "source": [
    "### Prepare Dataset"
   ]
  },
  {
   "cell_type": "code",
   "execution_count": 6,
   "metadata": {},
   "outputs": [
    {
     "name": "stdout",
     "output_type": "stream",
     "text": [
      "Number of Samples:  97\n",
      "Image shape:  torch.Size([3, 1024, 1024])\n",
      "Target:  tensor([[1.0000, 0.6182, 0.2256, 0.8672, 0.7930]])\n"
     ]
    }
   ],
   "source": [
    "dataset_name = \"mppd_ad_metal_plate\"\n",
    "\n",
    "root_dir = \"./\"\n",
    "dataset_config_path = \"/home/nisyad/projects/industrial-defect-detection/datasets.json\"\n",
    "\n",
    "dataset = load_local_vision_dataset(dataset_name=dataset_name,\n",
    "                                    dataset_config_path=dataset_config_path,\n",
    "                                    root_dir=root_dir,\n",
    "                                    task_type=\"object_detection\",\n",
    "                                    )\n",
    "\n",
    "\n",
    "transform = Compose([ToTensor()])\n",
    "\n",
    "dataset = TorchDataset(dataset, transform=transform)\n",
    "\n",
    "# Sanity Check\n",
    "print(\"Number of Samples: \", len(dataset))\n",
    "sample_img, sample_tgt = dataset[-1]\n",
    "print(\"Image shape: \", sample_img.shape)\n",
    "print(\"Target: \", sample_tgt) # [class, LTRB]"
   ]
  },
  {
   "cell_type": "markdown",
   "metadata": {},
   "source": [
    "### Create Prompt"
   ]
  },
  {
   "cell_type": "code",
   "execution_count": 7,
   "metadata": {},
   "outputs": [
    {
     "data": {
      "text/plain": [
       "'You are an expert visual inspector for a manufacturing company that makes glass bottles. You will be shown a top-view image of a glass bottle and your task is to identify if it is defective or not. Think step-by-step - first identify if there is a defect or not. Second, if there is a defect, identify the type of defect. **IF** present, the defect can only be of the following types: 1.broken 2.contamination. Third, explain your reasoning for the defect if present. Finally, identify where the defect is located in the image and provide the relative coordinates (between 0-1) of the bounding box enclosing the defect in the format [x_top, y_top, x_bottom, y_bottom]. Please return your response **strictly** as a valid JSON object with the following format:\\n{\"is_defective\": \"<yes or no>\",\\n\"reason\": \"<describe the defect. leave empty if is_defective is no>\",\\n\"defect_type\": \"<type of defect. leave empty if is_defective is no>\",\\n\"bounding_box\": \"[x_top, y_top, x_bottom, y_bottom]. leave empty if is_defective is no\"}\\n\\nNote: If  there is no defect or if you are unsure, please return \"is_defective\": \"no\" and leave the other fields empty.\\n'"
      ]
     },
     "execution_count": 7,
     "metadata": {},
     "output_type": "execute_result"
    }
   ],
   "source": [
    "prompt = \"\"\"You are an expert visual inspector for a manufacturing company that makes glass bottles. You will be shown a top-view image of a glass bottle and your task is to identify if it is defective or not. Think step-by-step - first identify if there is a defect or not. Second, if there is a defect, identify the type of defect. **IF** present, the defect can only be of the following types: 1.broken 2.contamination. Third, explain your reasoning for the defect if present. Finally, identify where the defect is located in the image and provide the relative coordinates (between 0-1) of the bounding box enclosing the defect in the format [x_top, y_top, x_bottom, y_bottom]. Please return your response **strictly** as a valid JSON object with the following format:\n",
    "{\"is_defective\": \"<yes or no>\",\n",
    "\"reason\": \"<describe the defect. leave empty if is_defective is no>\",\n",
    "\"defect_type\": \"<type of defect. leave empty if is_defective is no>\",\n",
    "\"bounding_box\": \"[x_top, y_top, x_bottom, y_bottom]. leave empty if is_defective is no\"}\n",
    "\n",
    "Note: If  there is no defect or if you are unsure, please return \"is_defective\": \"no\" and leave the other fields empty.\n",
    "\"\"\"\n",
    "\n",
    "prompt\n",
    "\n",
    "# Sanity Check\n",
    "# prompt = \"Describe the image in JSON format\""
   ]
  },
  {
   "cell_type": "markdown",
   "metadata": {},
   "source": [
    "### GPT Client"
   ]
  },
  {
   "cell_type": "code",
   "execution_count": 8,
   "metadata": {},
   "outputs": [
    {
     "name": "stdout",
     "output_type": "stream",
     "text": [
      "Processing sample 0...\n"
     ]
    }
   ],
   "source": [
    "responses = []\n",
    "\n",
    "for sample_idx in range(len(dataset)):\n",
    "    print(f\"Processing sample {sample_idx}...\")\n",
    "    \n",
    "    sample_img, sample_tgt = dataset[sample_idx]\n",
    "    base64_image, mime_type = convert_tensor_to_base64(sample_img)\n",
    "\n",
    "    gpt_client = GPTClient(\n",
    "    api_base=API_ENDPOINT,\n",
    "    deployment_name=DEPLOYMENT_NAME)\n",
    "\n",
    "    content = [\n",
    "        {\"type\": ContentType.TEXT, \"text\": prompt},\n",
    "        {\"type\": ContentType.IMAGE, \"url\": f\"data:{mime_type};base64,\" + base64_image}\n",
    "        # Add more content if needed\n",
    "    ]\n",
    "\n",
    "    gpt_client.update_messages(content=content)\n",
    "    raw_response = gpt_client.get_response()\n",
    "    outout = gpt_client.extract_output(raw_response)\n",
    "\n",
    "    responses.append({\n",
    "        \"sample_idx\": sample_idx,\n",
    "        \"response\": outout})\n",
    "    \n",
    "    # Wait for 20 seconds\n",
    "    time.sleep(20)\n"
   ]
  },
  {
   "cell_type": "code",
   "execution_count": 9,
   "metadata": {},
   "outputs": [
    {
     "data": {
      "text/plain": [
       "[{'sample_idx': 0,\n",
       "  'response': '```json\\n{\\n  \"is_defective\": \"no\",\\n  \"reason\": \"\",\\n  \"defect_type\": \"\",\\n  \"bounding_box\": \"\"\\n}\\n```'}]"
      ]
     },
     "execution_count": 9,
     "metadata": {},
     "output_type": "execute_result"
    }
   ],
   "source": [
    "responses"
   ]
  },
  {
   "cell_type": "code",
   "execution_count": null,
   "metadata": {},
   "outputs": [],
   "source": []
  }
 ],
 "metadata": {
  "kernelspec": {
   "display_name": "myenv",
   "language": "python",
   "name": "python3"
  },
  "language_info": {
   "codemirror_mode": {
    "name": "ipython",
    "version": 3
   },
   "file_extension": ".py",
   "mimetype": "text/x-python",
   "name": "python",
   "nbconvert_exporter": "python",
   "pygments_lexer": "ipython3",
   "version": "3.12.3"
  }
 },
 "nbformat": 4,
 "nbformat_minor": 2
}
