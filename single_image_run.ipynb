{
 "cells": [
  {
   "cell_type": "code",
   "execution_count": 1,
   "metadata": {},
   "outputs": [
    {
     "data": {
      "text/plain": [
       "True"
      ]
     },
     "execution_count": 1,
     "metadata": {},
     "output_type": "execute_result"
    }
   ],
   "source": [
    "import json\n",
    "import os\n",
    "import requests\n",
    "import torch\n",
    "from dotenv import load_dotenv\n",
    "from torchvision import transforms\n",
    "from torchvision.transforms import Compose, ToTensor\n",
    "from PIL import Image\n",
    "\n",
    "from utils import (\n",
    "    TorchDataset,\n",
    "    convert_tensor_to_base64,\n",
    "    convert_to_base64,\n",
    "    load_local_vision_dataset,\n",
    ")\n",
    "\n",
    "load_dotenv()\n"
   ]
  },
  {
   "cell_type": "code",
   "execution_count": 11,
   "metadata": {},
   "outputs": [],
   "source": [
    "ENDPOINT = \"https://customvision-dev-aoai.openai.azure.com\"\n",
    "DEPLOYMENT_NAME = \"gpt4o-001\"\n",
    "URL = f\"{ENDPOINT}/openai/deployments/{DEPLOYMENT_NAME}/chat/completions?api-version=2024-02-15-preview\"\n",
    "\n",
    "HEADERS = {'api-key': os.getenv(\"AZURE_OPENAI_API_KEY\"),\n",
    "           'Content-Type': 'application/json'}"
   ]
  },
  {
   "cell_type": "code",
   "execution_count": 16,
   "metadata": {},
   "outputs": [],
   "source": [
    "# prompt = \"\"\"You are an expert visual inspector for a manufacturing company that makes glass bottles. You will be shown a top-view image of a glass bottle and your task is to identify if it is defective or not. Think step-by-step - first identify if there is a defect or not. Second, if there is a defect, identify the type of defect. **IF** present, the defect can only be of the following types: 1.broken 2.contamination. Third, explain your reasoning for the defect if present. Finally, identify where the defect is located in the image and provide the relative coordinates (between 0-1) of the bounding box enclosing the defect in the format [x_top, y_top, x_bottom, y_bottom]. Please return your response **strictly** as a valid JSON object with the following format:\n",
    "# {\"is_defective\": \"<yes or no>\",\n",
    "# \"reason\": \"<describe the defect. leave empty if is_defective is no>\",\n",
    "# \"defect_type\": \"<type of defect. leave empty if is_defective is no>\",\n",
    "# \"bounding_box\": \"[x_top, y_top, x_bottom, y_bottom]. leave empty if is_defective is no\"}\n",
    "\n",
    "# Note: If  there is no defect or if you are unsure, please return \"is_defective\": \"no\" and leave the other fields empty.\n",
    "# \"\"\"\n",
    "\n",
    "# prompt\n",
    "\n",
    "prompt = \"Describe the image\""
   ]
  },
  {
   "cell_type": "code",
   "execution_count": 23,
   "metadata": {},
   "outputs": [],
   "source": [
    "def get_request_body(prompt, base64_image, mime_type):\n",
    "    request_body = {\n",
    "        \"messages\": [\n",
    "            {\n",
    "                \"role\": \"system\",\n",
    "                \"content\": \"You are a helpful assistant.\"\n",
    "            },\n",
    "            {\n",
    "                \"role\": \"user\",\n",
    "                \"content\": [\n",
    "                        {\n",
    "                            \"type\": \"text\",\n",
    "                            \"text\": f\"{prompt}\"\n",
    "                        },\n",
    "                    {\n",
    "                            \"type\": \"image_url\",\n",
    "                            \"image_url\": {\n",
    "                                \"url\": f\"data:{mime_type};base64,\" + f\"{base64_image}\",\n",
    "                            }\n",
    "                            }\n",
    "                ]\n",
    "            }\n",
    "        ],\n",
    "        \"max_tokens\": 300\n",
    "    }\n",
    "\n",
    "    return request_body"
   ]
  },
  {
   "cell_type": "code",
   "execution_count": 24,
   "metadata": {},
   "outputs": [
    {
     "name": "stdout",
     "output_type": "stream",
     "text": [
      "image/png\n"
     ]
    }
   ],
   "source": [
    "sample_img_path = \"datasets/raw/mvtec-ad/bottle/test/broken_large/000.png\"\n",
    "\n",
    "# base64_image = convert_tensor_to_base64(sample_img)\n",
    "base64_image, mime_type = convert_to_base64(sample_img_path)\n",
    "print(mime_type)\n",
    "\n",
    "request_body = get_request_body(prompt, base64_image, mime_type)\n",
    "\n",
    "response = requests.post(URL, headers=HEADERS,\n",
    "                             json=request_body, timeout=120)\n"
   ]
  },
  {
   "cell_type": "code",
   "execution_count": 26,
   "metadata": {},
   "outputs": [
    {
     "data": {
      "text/plain": [
       "{'error': {'code': 'InternalServerError',\n",
       "  'message': 'The service is temporarily unable to process your request. Please try again later.',\n",
       "  'param': None,\n",
       "  'type': None}}"
      ]
     },
     "execution_count": 26,
     "metadata": {},
     "output_type": "execute_result"
    }
   ],
   "source": [
    "response.json()"
   ]
  },
  {
   "cell_type": "code",
   "execution_count": null,
   "metadata": {},
   "outputs": [],
   "source": []
  }
 ],
 "metadata": {
  "kernelspec": {
   "display_name": "myenv",
   "language": "python",
   "name": "python3"
  },
  "language_info": {
   "codemirror_mode": {
    "name": "ipython",
    "version": 3
   },
   "file_extension": ".py",
   "mimetype": "text/x-python",
   "name": "python",
   "nbconvert_exporter": "python",
   "pygments_lexer": "ipython3",
   "version": "3.12.3"
  }
 },
 "nbformat": 4,
 "nbformat_minor": 2
}
