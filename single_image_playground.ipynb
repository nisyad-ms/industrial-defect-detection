{
 "cells": [
  {
   "cell_type": "code",
   "execution_count": 1,
   "metadata": {},
   "outputs": [],
   "source": [
    "import sys\n",
    "\n",
    "root_dir = \"/home/nisyad/projects/industrial-defect-detection\"\n",
    "sys.path.append(root_dir)"
   ]
  },
  {
   "cell_type": "code",
   "execution_count": 2,
   "metadata": {},
   "outputs": [
    {
     "data": {
      "text/plain": [
       "True"
      ]
     },
     "execution_count": 2,
     "metadata": {},
     "output_type": "execute_result"
    }
   ],
   "source": [
    "import json\n",
    "import os\n",
    "import requests\n",
    "import torch\n",
    "from dotenv import load_dotenv\n",
    "from torchvision import transforms\n",
    "from torchvision.transforms import Compose, ToTensor\n",
    "from PIL import Image\n",
    "\n",
    "from azure.identity import get_bearer_token_provider, DefaultAzureCredential\n",
    "from openai import AzureOpenAI\n",
    "from gpt_client import GPTClient, ContentType\n",
    "\n",
    "from utils import (\n",
    "    TorchDataset,\n",
    "    convert_tensor_to_base64,\n",
    "    convert_to_base64,\n",
    "    load_local_vision_dataset,\n",
    ")\n",
    "\n",
    "import tenacity\n",
    "\n",
    "load_dotenv()\n"
   ]
  },
  {
   "cell_type": "code",
   "execution_count": 3,
   "metadata": {},
   "outputs": [
    {
     "data": {
      "text/plain": [
       "'You are an expert visual inspector for a manufacturing company that makes glass bottles. You will be shown a top-view image of a glass bottle and your task is to identify if it is defective or not. Think step-by-step - first identify if there is a defect or not. Second, if there is a defect, identify the type of defect. **IF** present, the defect can only be of the following types: 1.broken 2.contamination. Third, explain your reasoning for the defect if present. Finally, identify where the defect is located in the image and provide the relative coordinates (between 0-1) of the bounding box enclosing the defect in the format [x_top, y_top, x_bottom, y_bottom]. Please return your response **strictly** as a valid JSON object with the following format:\\n{\"is_defective\": \"<yes or no>\",\\n\"reason\": \"<describe the defect. leave empty if is_defective is no>\",\\n\"defect_type\": \"<type of defect. leave empty if is_defective is no>\",\\n\"bounding_box\": \"[x_top, y_top, x_bottom, y_bottom]. leave empty if is_defective is no\"}\\n\\nNote: If  there is no defect or if you are unsure, please return \"is_defective\": \"no\" and leave the other fields empty.\\n'"
      ]
     },
     "execution_count": 3,
     "metadata": {},
     "output_type": "execute_result"
    }
   ],
   "source": [
    "prompt = \"\"\"You are an expert visual inspector for a manufacturing company that makes glass bottles. You will be shown a top-view image of a glass bottle and your task is to identify if it is defective or not. Think step-by-step - first identify if there is a defect or not. Second, if there is a defect, identify the type of defect. **IF** present, the defect can only be of the following types: 1.broken 2.contamination. Third, explain your reasoning for the defect if present. Finally, identify where the defect is located in the image and provide the relative coordinates (between 0-1) of the bounding box enclosing the defect in the format [x_top, y_top, x_bottom, y_bottom]. Please return your response **strictly** as a valid JSON object with the following format:\n",
    "{\"is_defective\": \"<yes or no>\",\n",
    "\"reason\": \"<describe the defect. leave empty if is_defective is no>\",\n",
    "\"defect_type\": \"<type of defect. leave empty if is_defective is no>\",\n",
    "\"bounding_box\": \"[x_top, y_top, x_bottom, y_bottom]. leave empty if is_defective is no\"}\n",
    "\n",
    "Note: If  there is no defect or if you are unsure, please return \"is_defective\": \"no\" and leave the other fields empty.\n",
    "\"\"\"\n",
    "\n",
    "prompt\n",
    "\n",
    "# prompt = \"Describe the image in JSON format\""
   ]
  },
  {
   "cell_type": "code",
   "execution_count": 4,
   "metadata": {},
   "outputs": [],
   "source": [
    "# def get_messages_body(prompt, base64_image, mime_type):\n",
    "#     return [\n",
    "#         {\n",
    "#             \"role\": \"system\",\n",
    "#             \"content\": \"You are a helpful assistant.\"\n",
    "#         },\n",
    "#         {\n",
    "#             \"role\": \"user\",\n",
    "#             \"content\": [\n",
    "#                     {\n",
    "#                         \"type\": \"text\",\n",
    "#                         \"text\": f\"{prompt}\"\n",
    "#                     },\n",
    "#                 {\n",
    "#                         \"type\": \"image_url\",\n",
    "#                         \"image_url\": {\n",
    "#                                 \"url\": f\"data:{mime_type};base64,\" + f\"{base64_image}\",\n",
    "#                         }\n",
    "#                 }\n",
    "#             ]\n",
    "#         }\n",
    "#     ]"
   ]
  },
  {
   "cell_type": "code",
   "execution_count": 5,
   "metadata": {},
   "outputs": [
    {
     "name": "stdout",
     "output_type": "stream",
     "text": [
      "image/png\n"
     ]
    }
   ],
   "source": [
    "sample_img_path = \"datasets/raw/mvtec-ad/bottle/test/good/001.png\"\n",
    "\n",
    "# base64_image = convert_tensor_to_base64(sample_img)\n",
    "base64_image, mime_type = convert_to_base64(sample_img_path)\n",
    "print(mime_type)\n",
    "\n"
   ]
  },
  {
   "cell_type": "code",
   "execution_count": null,
   "metadata": {},
   "outputs": [],
   "source": []
  },
  {
   "cell_type": "code",
   "execution_count": 9,
   "metadata": {},
   "outputs": [],
   "source": [
    "gpt_client = GPTClient(\n",
    "    api_base=\"https://customvision-dev-aoai.openai.azure.com/\",\n",
    "    deployment_name=\"gpt4o-003\"\n",
    ")\n",
    "\n",
    "content = [\n",
    "    {\"type\": ContentType.TEXT, \"text\": prompt},\n",
    "    {\"type\": ContentType.IMAGE, \"url\": f\"data:{mime_type};base64,\" + base64_image}\n",
    "]\n",
    "\n",
    "gpt_client.update_messages(content=content)\n",
    "raw_response = gpt_client.get_response()\n",
    "outout = gpt_client.extract_output(raw_response)"
   ]
  },
  {
   "cell_type": "code",
   "execution_count": 7,
   "metadata": {},
   "outputs": [
    {
     "data": {
      "text/plain": [
       "ChatCompletion(id='chatcmpl-9rYAcb48djwDA3FHYA7IzmHvskU1w', choices=[Choice(finish_reason='stop', index=0, logprobs=None, message=ChatCompletionMessage(content='```json\\n{\\n  \"is_defective\": \"yes\",\\n  \"reason\": \"There is a contamination visible on the inner edge of the bottle opening.\",\\n  \"defect_type\": \"contamination\",\\n  \"bounding_box\": \"[0.1, 0.7, 0.2, 0.8]\"\\n}\\n```', role='assistant', function_call=None, tool_calls=None), content_filter_results={'hate': {'filtered': False, 'severity': 'safe'}, 'self_harm': {'filtered': False, 'severity': 'safe'}, 'sexual': {'filtered': False, 'severity': 'safe'}, 'violence': {'filtered': False, 'severity': 'safe'}})], created=1722549762, model='gpt-4o-2024-05-13', object='chat.completion', service_tier=None, system_fingerprint='fp_abc28019ad', usage=CompletionUsage(completion_tokens=69, prompt_tokens=921, total_tokens=990), prompt_filter_results=[{'prompt_index': 0, 'content_filter_result': {'jailbreak': {'filtered': False, 'detected': False}, 'custom_blocklists': {'filtered': False, 'details': []}}}, {'prompt_index': 1, 'content_filter_result': {'sexual': {'filtered': False, 'severity': 'safe'}, 'violence': {'filtered': False, 'severity': 'safe'}, 'hate': {'filtered': False, 'severity': 'safe'}, 'self_harm': {'filtered': False, 'severity': 'safe'}, 'custom_blocklists': {'filtered': False, 'details': []}}}])"
      ]
     },
     "execution_count": 7,
     "metadata": {},
     "output_type": "execute_result"
    }
   ],
   "source": []
  },
  {
   "cell_type": "code",
   "execution_count": 8,
   "metadata": {},
   "outputs": [
    {
     "data": {
      "text/plain": [
       "'```json\\n{\\n  \"is_defective\": \"yes\",\\n  \"reason\": \"There is a contamination visible on the inner edge of the bottle opening.\",\\n  \"defect_type\": \"contamination\",\\n  \"bounding_box\": \"[0.1, 0.7, 0.2, 0.8]\"\\n}\\n```'"
      ]
     },
     "execution_count": 8,
     "metadata": {},
     "output_type": "execute_result"
    }
   ],
   "source": [
    "response.choices[0].message.content"
   ]
  },
  {
   "cell_type": "code",
   "execution_count": null,
   "metadata": {},
   "outputs": [],
   "source": []
  }
 ],
 "metadata": {
  "kernelspec": {
   "display_name": "myenv",
   "language": "python",
   "name": "python3"
  },
  "language_info": {
   "codemirror_mode": {
    "name": "ipython",
    "version": 3
   },
   "file_extension": ".py",
   "mimetype": "text/x-python",
   "name": "python",
   "nbconvert_exporter": "python",
   "pygments_lexer": "ipython3",
   "version": "3.12.3"
  }
 },
 "nbformat": 4,
 "nbformat_minor": 2
}
