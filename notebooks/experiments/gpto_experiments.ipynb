{
 "cells": [
  {
   "cell_type": "code",
   "execution_count": 3,
   "metadata": {},
   "outputs": [],
   "source": [
    "import sys\n",
    "\n",
    "root_dir = \"/home/nisyad/projects/industrial-defect-detection\"\n",
    "sys.path.append(root_dir)"
   ]
  },
  {
   "cell_type": "code",
   "execution_count": 4,
   "metadata": {},
   "outputs": [
    {
     "data": {
      "text/plain": [
       "True"
      ]
     },
     "execution_count": 4,
     "metadata": {},
     "output_type": "execute_result"
    }
   ],
   "source": [
    "import json\n",
    "import os\n",
    "import requests\n",
    "import torch\n",
    "from dotenv import load_dotenv\n",
    "from torchvision import transforms\n",
    "from torchvision.transforms import Compose, ToTensor\n",
    "\n",
    "from utils import (\n",
    "    TorchDataset,\n",
    "    convert_tensor_to_base64,\n",
    "    convert_to_base64,\n",
    "    load_local_vision_dataset,\n",
    ")\n",
    "\n",
    "load_dotenv()"
   ]
  },
  {
   "cell_type": "code",
   "execution_count": 5,
   "metadata": {},
   "outputs": [],
   "source": [
    "ENDPOINT = \"https://customvision-dev-aoai.openai.azure.com\"\n",
    "DEPLOYMENT_NAME = \"gpt4o-003\"\n",
    "URL = f\"{ENDPOINT}/openai/deployments/{DEPLOYMENT_NAME}/chat/completions?api-version=2024-02-15-preview\"\n",
    "\n",
    "# HEADERS = {'api-key': os.getenv(\"AZURE_OPENAI_API_KEY\"),\n",
    "#            'Content-Type': 'application/json'}\n",
    "\n",
    "HEADERS = {"
   ]
  },
  {
   "cell_type": "code",
   "execution_count": 9,
   "metadata": {},
   "outputs": [
    {
     "name": "stdout",
     "output_type": "stream",
     "text": [
      "97\n",
      "torch.Size([3, 1024, 1024])\n",
      "tensor([[1.0000, 0.6182, 0.2256, 0.8672, 0.7930]])\n"
     ]
    }
   ],
   "source": [
    "dataset_name = \"mppd_ad_metal_plate\"\n",
    "dataset_config_path = \"/home/nisyad/projects/industrial-defect-detection/datasets.json\"\n",
    "\n",
    "dataset = load_local_vision_dataset(dataset_name=dataset_name,\n",
    "                                    dataset_config_path=dataset_config_path,\n",
    "                                    root_dir=root_dir,\n",
    "                                    task_type=\"object_detection\",\n",
    "                                    )\n",
    "\n",
    "\n",
    "transform = Compose([ToTensor()])\n",
    "\n",
    "dataset = TorchDataset(dataset, transform=transform)\n",
    "\n",
    "print(len(dataset))\n",
    "sample_img, sample_tgt = dataset[-1]\n",
    "print(sample_img.shape)\n",
    "print(sample_tgt)"
   ]
  },
  {
   "cell_type": "code",
   "execution_count": 10,
   "metadata": {},
   "outputs": [
    {
     "data": {
      "text/plain": [
       "tensor([[1.0000, 0.6123, 0.1426, 0.9131, 0.7363]])"
      ]
     },
     "execution_count": 10,
     "metadata": {},
     "output_type": "execute_result"
    }
   ],
   "source": [
    "sample_img, sample_tgt = dataset[-5]\n",
    "sample_tgt"
   ]
  },
  {
   "cell_type": "code",
   "execution_count": 11,
   "metadata": {},
   "outputs": [
    {
     "data": {
      "text/plain": [
       "[tensor(1024.), tensor(627.), tensor(146.), tensor(935.), tensor(754.)]"
      ]
     },
     "execution_count": 11,
     "metadata": {},
     "output_type": "execute_result"
    }
   ],
   "source": [
    "tmp = [coord * 1024 for coord in sample_tgt[0]]\n",
    "tmp"
   ]
  },
  {
   "cell_type": "code",
   "execution_count": 12,
   "metadata": {},
   "outputs": [],
   "source": [
    "# Sanity check\n",
    "\n",
    "# import matplotlib.pyplot as plt\n",
    "# import matplotlib.patches as patches\n",
    "\n",
    "# # Convert the tensor image to numpy array\n",
    "# sample_img_np = sample_img.permute(1, 2, 0).numpy()\n",
    "\n",
    "# # Create figure and axes\n",
    "# fig, ax = plt.subplots()\n",
    "\n",
    "# # Display the image\n",
    "# ax.imshow(sample_img_np)\n",
    "\n",
    "# # Extract the bounding box coordinates\n",
    "# x_top, y_top, x_bottom, y_bottom = sample_tgt[0][1:].tolist()\n",
    "\n",
    "# print(x_top, y_top, x_bottom, y_bottom)\n",
    "\n",
    "\n",
    "# # Calculate the width and height of the bounding box\n",
    "# width = (x_bottom - x_top) * sample_img_np.shape[1]\n",
    "# height = (y_bottom - y_top) * sample_img_np.shape[0]\n",
    "\n",
    "# x_top *= sample_img_np.shape[1]\n",
    "# y_top *= sample_img_np.shape[0]\n",
    "\n",
    "# print(x_top, y_top, width, height)\n",
    "\n",
    "# # Create a rectangle patch\n",
    "# rect = patches.Rectangle((x_top, y_top), width, height, linewidth=2, edgecolor='r', facecolor='none')\n",
    "\n",
    "# # Add the rectangle patch to the axes\n",
    "# ax.add_patch(rect)\n",
    "\n",
    "# # Show the plot\n",
    "# plt.show()"
   ]
  },
  {
   "cell_type": "code",
   "execution_count": 13,
   "metadata": {},
   "outputs": [],
   "source": [
    "# # Load prompt \n",
    "\n",
    "# with open(\"prompt_registry.json\", \"r\") as f:\n",
    "#     prompt_registry = json.load(f)\n",
    "    \n",
    "# prompt_registry"
   ]
  },
  {
   "cell_type": "code",
   "execution_count": 14,
   "metadata": {},
   "outputs": [],
   "source": [
    "# prompt = prompt_registry['3']\n",
    "# prompt"
   ]
  },
  {
   "cell_type": "code",
   "execution_count": 15,
   "metadata": {},
   "outputs": [
    {
     "data": {
      "text/plain": [
       "'You are an expert visual inspector for a manufacturing company that makes glass bottles. You will be shown a top-view image of a glass bottle and your task is to identify if it is defective or not. Think step-by-step - first identify if there is a defect or not. Second, if there is a defect, identify the type of defect. **IF** present, the defect can only be of the following types: 1.broken 2.contamination. Third, explain your reasoning for the defect if present. Finally, identify where the defect is located in the image and provide the relative coordinates (between 0-1) of the bounding box enclosing the defect in the format [x_top, y_top, x_bottom, y_bottom]. Please return your response **strictly** as a valid JSON object with the following format:\\n{\"is_defective\": \"<yes or no>\",\\n\"reason\": \"<describe the defect. leave empty if is_defective is no>\",\\n\"defect_type\": \"<type of defect. leave empty if is_defective is no>\",\\n\"bounding_box\": \"[x_top, y_top, x_bottom, y_bottom]. leave empty if is_defective is no\"}\\n\\nNote: If  there is no defect or if you are unsure, please return \"is_defective\": \"no\" and leave the other fields empty.\\n'"
      ]
     },
     "execution_count": 15,
     "metadata": {},
     "output_type": "execute_result"
    }
   ],
   "source": [
    "prompt = \"\"\"You are an expert visual inspector for a manufacturing company that makes glass bottles. You will be shown a top-view image of a glass bottle and your task is to identify if it is defective or not. Think step-by-step - first identify if there is a defect or not. Second, if there is a defect, identify the type of defect. **IF** present, the defect can only be of the following types: 1.broken 2.contamination. Third, explain your reasoning for the defect if present. Finally, identify where the defect is located in the image and provide the relative coordinates (between 0-1) of the bounding box enclosing the defect in the format [x_top, y_top, x_bottom, y_bottom]. Please return your response **strictly** as a valid JSON object with the following format:\n",
    "{\"is_defective\": \"<yes or no>\",\n",
    "\"reason\": \"<describe the defect. leave empty if is_defective is no>\",\n",
    "\"defect_type\": \"<type of defect. leave empty if is_defective is no>\",\n",
    "\"bounding_box\": \"[x_top, y_top, x_bottom, y_bottom]. leave empty if is_defective is no\"}\n",
    "\n",
    "Note: If  there is no defect or if you are unsure, please return \"is_defective\": \"no\" and leave the other fields empty.\n",
    "\"\"\"\n",
    "\n",
    "prompt"
   ]
  },
  {
   "cell_type": "code",
   "execution_count": 16,
   "metadata": {},
   "outputs": [],
   "source": [
    "# # Save prompt to a registry\n",
    "# import os\n",
    "\n",
    "# if os.path.getsize(\"prompt_registry.json\") > 0:\n",
    "#     with open(\"prompt_registry.json\", \"r\") as f:\n",
    "#         prompt_registry = json.load(f)\n",
    "#         last_idx = max(map(int, prompt_registry.keys()))\n",
    "#         prompt_registry[last_idx + 1] = prompt\n",
    "# else:\n",
    "#     prompt_registry = {}\n",
    "#     prompt_registry[0] = prompt\n",
    "    \n",
    "# # Save the updated prompt registry\n",
    "# with open(\"prompt_registry.json\", \"w\") as f:\n",
    "#     json.dump(prompt_registry, f)\n",
    "    "
   ]
  },
  {
   "cell_type": "code",
   "execution_count": 17,
   "metadata": {},
   "outputs": [],
   "source": [
    "def get_request_body(prompt, base64_image):\n",
    "    request_body = {\n",
    "        \"messages\": [\n",
    "            {\n",
    "                \"role\": \"system\",\n",
    "                \"content\": \"You are a helpful assistant.\"\n",
    "            },\n",
    "            {\n",
    "                \"role\": \"user\",\n",
    "                \"content\": [\n",
    "                        {\n",
    "                            \"type\": \"text\",\n",
    "                            \"text\": f\"{prompt}\"\n",
    "                        },\n",
    "                    {\n",
    "                            \"type\": \"image_url\",\n",
    "                            \"image_url\": {\n",
    "                                \"url\": \"data:image/png;base64,\" + f\"{base64_image}\",\n",
    "                            }\n",
    "                            }\n",
    "                ]\n",
    "            }\n",
    "        ],\n",
    "        \"max_tokens\": 300\n",
    "    }\n",
    "\n",
    "    return request_body\n",
    "\n",
    "\n",
    "# Sanity check\n",
    "# prompt = \"What is this object?\"\n",
    "# base64_image = convert_tensor_to_base64(sample_img)\n",
    "# request_body = get_request_body(prompt, base64_image)\n",
    "# print(request_body)"
   ]
  },
  {
   "cell_type": "code",
   "execution_count": 18,
   "metadata": {},
   "outputs": [
    {
     "name": "stdout",
     "output_type": "stream",
     "text": [
      "Processing sample 0...\n"
     ]
    },
    {
     "ename": "KeyError",
     "evalue": "'choices'",
     "output_type": "error",
     "traceback": [
      "\u001b[0;31m---------------------------------------------------------------------------\u001b[0m",
      "\u001b[0;31mKeyError\u001b[0m                                  Traceback (most recent call last)",
      "Cell \u001b[0;32mIn[18], line 18\u001b[0m\n\u001b[1;32m     11\u001b[0m request_body \u001b[38;5;241m=\u001b[39m get_request_body(prompt, base64_image)\n\u001b[1;32m     13\u001b[0m response \u001b[38;5;241m=\u001b[39m requests\u001b[38;5;241m.\u001b[39mpost(URL, headers\u001b[38;5;241m=\u001b[39mHEADERS,\n\u001b[1;32m     14\u001b[0m                          json\u001b[38;5;241m=\u001b[39mrequest_body, timeout\u001b[38;5;241m=\u001b[39m\u001b[38;5;241m120\u001b[39m)\n\u001b[1;32m     17\u001b[0m responses\u001b[38;5;241m.\u001b[39mappend({\u001b[38;5;124m\"\u001b[39m\u001b[38;5;124msample_idx\u001b[39m\u001b[38;5;124m\"\u001b[39m: sample_idx,\n\u001b[0;32m---> 18\u001b[0m                 \u001b[38;5;124m\"\u001b[39m\u001b[38;5;124mresponse\u001b[39m\u001b[38;5;124m\"\u001b[39m: \u001b[43mresponse\u001b[49m\u001b[38;5;241;43m.\u001b[39;49m\u001b[43mjson\u001b[49m\u001b[43m(\u001b[49m\u001b[43m)\u001b[49m\u001b[43m[\u001b[49m\u001b[38;5;124;43m\"\u001b[39;49m\u001b[38;5;124;43mchoices\u001b[39;49m\u001b[38;5;124;43m\"\u001b[39;49m\u001b[43m]\u001b[49m[\u001b[38;5;241m0\u001b[39m][\u001b[38;5;124m\"\u001b[39m\u001b[38;5;124mmessage\u001b[39m\u001b[38;5;124m\"\u001b[39m][\u001b[38;5;124m\"\u001b[39m\u001b[38;5;124mcontent\u001b[39m\u001b[38;5;124m\"\u001b[39m],\n\u001b[1;32m     19\u001b[0m                 \u001b[38;5;124m\"\u001b[39m\u001b[38;5;124mtarget\u001b[39m\u001b[38;5;124m\"\u001b[39m: sample_tgt\u001b[38;5;241m.\u001b[39mtolist()})\n\u001b[1;32m     21\u001b[0m \u001b[38;5;66;03m# Wait for 20 seconds\u001b[39;00m\n\u001b[1;32m     22\u001b[0m time\u001b[38;5;241m.\u001b[39msleep(\u001b[38;5;241m15\u001b[39m)\n",
      "\u001b[0;31mKeyError\u001b[0m: 'choices'"
     ]
    }
   ],
   "source": [
    "import time\n",
    "\n",
    "responses = []\n",
    "\n",
    "for sample_idx in range(len(dataset)):\n",
    "    print(f\"Processing sample {sample_idx}...\")\n",
    "    \n",
    "    sample_img, sample_tgt = dataset[sample_idx]\n",
    "    base64_image = convert_tensor_to_base64(sample_img)\n",
    "\n",
    "    request_body = get_request_body(prompt, base64_image)\n",
    "\n",
    "    response = requests.post(URL, headers=HEADERS,\n",
    "                             json=request_body, timeout=120)\n",
    "    \n",
    "    \n",
    "    responses.append({\"sample_idx\": sample_idx,\n",
    "                    \"response\": response.json()[\"choices\"][0][\"message\"][\"content\"],\n",
    "                    \"target\": sample_tgt.tolist()})\n",
    "    \n",
    "    # Wait for 20 seconds\n",
    "    time.sleep(15)\n",
    "    \n",
    "\n",
    "# responses"
   ]
  },
  {
   "cell_type": "code",
   "execution_count": 20,
   "metadata": {},
   "outputs": [
    {
     "data": {
      "text/plain": [
       "b'{\"error\":{\"code\":\"AuthenticationTypeDisabled\",\"message\": \"Key based authentication is disabled for this resource.\"}}'"
      ]
     },
     "execution_count": 20,
     "metadata": {},
     "output_type": "execute_result"
    }
   ],
   "source": []
  },
  {
   "cell_type": "code",
   "execution_count": null,
   "metadata": {},
   "outputs": [],
   "source": [
    "def extract_valid_json(response):\n",
    "    try:\n",
    "        response = json.loads(response)\n",
    "        return response\n",
    "    except:\n",
    "        if response.startswith(\"```json\\n\"):\n",
    "            response = response.replace(\"```json\\n\", \"\")\n",
    "            response = response.replace(\"\\n```\", \"\")\n",
    "            response = json.loads(response)\n",
    "            return response\n",
    "        else:\n",
    "            return \"Invalid JSON\"\n",
    "        \n",
    "# Sanity check\n",
    "# sample_response = responses[0][\"response\"]\n",
    "# print(extract_valid_json(sample_response))\n",
    "            "
   ]
  },
  {
   "cell_type": "code",
   "execution_count": null,
   "metadata": {},
   "outputs": [],
   "source": [
    "for response in responses:\n",
    "    response[\"parsed_response\"] = extract_valid_json(response[\"response\"])\n",
    "    if response[\"parsed_response\"] == \"Invalid JSON\":\n",
    "        print(response[\"response\"])\n",
    "        print(response[\"parsed_response\"])\n",
    "        print(response[\"sample_idx\"])\n",
    "        print(response[\"target\"])\n",
    "        print(\"\\n\")\n",
    "    \n",
    "    "
   ]
  },
  {
   "cell_type": "code",
   "execution_count": null,
   "metadata": {},
   "outputs": [],
   "source": [
    "responses"
   ]
  },
  {
   "cell_type": "code",
   "execution_count": null,
   "metadata": {},
   "outputs": [],
   "source": [
    "def calculate_accuracy(responses):\n",
    "    correct = 0\n",
    "    for item in responses:\n",
    "        response = item[\"parsed_response\"]\n",
    "        target = item[\"target\"][0]\n",
    "        \n",
    "        if target == 0 and response[\"is_defective\"] == \"no\":\n",
    "            pass\n",
    "            # correct += 1\n",
    "        elif target != 0 and response[\"is_defective\"] == \"yes\":\n",
    "            correct += 1\n",
    "            \n",
    "    return correct / len(responses)\n",
    "\n",
    "\n",
    "calculate_accuracy(responses)"
   ]
  },
  {
   "cell_type": "code",
   "execution_count": null,
   "metadata": {},
   "outputs": [],
   "source": [
    "# Save responses\n",
    "\n",
    "with open(f\"{dataset_name}_responses.json\", \"w\") as f:\n",
    "    json.dump(responses, f)"
   ]
  },
  {
   "cell_type": "code",
   "execution_count": null,
   "metadata": {},
   "outputs": [],
   "source": []
  },
  {
   "cell_type": "code",
   "execution_count": null,
   "metadata": {},
   "outputs": [],
   "source": [
    "### One off evaluation"
   ]
  },
  {
   "cell_type": "code",
   "execution_count": null,
   "metadata": {},
   "outputs": [],
   "source": [
    "sample_img, sample_tgt = dataset[-5]\n",
    "print(sample_tgt)\n",
    "\n",
    "base64_image = convert_tensor_to_base64(sample_img)\n",
    "\n",
    "request_body = get_request_body(prompt, base64_image)\n",
    "\n",
    "response = requests.post(URL, headers=HEADERS,\n",
    "                             json=request_body, timeout=120)\n"
   ]
  },
  {
   "cell_type": "code",
   "execution_count": null,
   "metadata": {},
   "outputs": [],
   "source": [
    "import matplotlib.pyplot as plt\n",
    "import matplotlib.patches as patches\n",
    "\n",
    "# Convert the tensor image to numpy array\n",
    "sample_img_np = sample_img.permute(1, 2, 0).numpy()\n",
    "\n",
    "# Create figure and axes\n",
    "fig, ax = plt.subplots()\n",
    "\n",
    "# Display the image\n",
    "ax.imshow(sample_img_np)\n",
    "\n",
    "# Extract the bounding box coordinates\n",
    "x_top, y_top, x_bottom, y_bottom = sample_tgt[0][1:].tolist()\n",
    "\n",
    "# Calculate the width and height of the bounding box\n",
    "width = (x_bottom - x_top) * sample_img_np.shape[1]\n",
    "height = (y_bottom - y_top) * sample_img_np.shape[0]\n",
    "\n",
    "x_top *= sample_img_np.shape[1]\n",
    "y_top *= sample_img_np.shape[0]\n",
    "\n",
    "# Create a rectangle patch\n",
    "rect = patches.Rectangle((x_top, y_top), width, height, linewidth=2, edgecolor='r', facecolor='none')\n",
    "\n",
    "# Add the rectangle patch to the axes\n",
    "ax.add_patch(rect)\n",
    "\n",
    "# Show the plot\n",
    "plt.show()"
   ]
  },
  {
   "cell_type": "code",
   "execution_count": null,
   "metadata": {},
   "outputs": [],
   "source": [
    "response.json()"
   ]
  },
  {
   "cell_type": "code",
   "execution_count": null,
   "metadata": {},
   "outputs": [],
   "source": []
  },
  {
   "cell_type": "code",
   "execution_count": null,
   "metadata": {},
   "outputs": [],
   "source": []
  }
 ],
 "metadata": {
  "kernelspec": {
   "display_name": "myenv",
   "language": "python",
   "name": "python3"
  },
  "language_info": {
   "codemirror_mode": {
    "name": "ipython",
    "version": 3
   },
   "file_extension": ".py",
   "mimetype": "text/x-python",
   "name": "python",
   "nbconvert_exporter": "python",
   "pygments_lexer": "ipython3",
   "version": "3.12.3"
  }
 },
 "nbformat": 4,
 "nbformat_minor": 2
}
