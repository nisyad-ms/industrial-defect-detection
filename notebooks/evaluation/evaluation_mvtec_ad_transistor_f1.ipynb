{
 "cells": [
  {
   "cell_type": "code",
   "execution_count": 2,
   "metadata": {},
   "outputs": [],
   "source": [
    "import os\n",
    "import json"
   ]
  },
  {
   "cell_type": "code",
   "execution_count": 180,
   "metadata": {},
   "outputs": [],
   "source": [
    "dataset_name = \"mvtec_ad_transistor\"\n",
    "\n",
    "dataset_coco = f\"/home/nisyad/projects/industrial-defect-detection/datasets/processed/{dataset_name}/test.json\"\n",
    "\n",
    "# Zero-shot responses\n",
    "responses = f\"/home/nisyad/projects/industrial-defect-detection/{dataset_name}_responses.json\"\n",
    "\n",
    "# 1-shot In-context responses\n",
    "responses = f\"/home/nisyad/projects/industrial-defect-detection/{dataset_name}_responses_in_context.json\""
   ]
  },
  {
   "cell_type": "code",
   "execution_count": 181,
   "metadata": {},
   "outputs": [
    {
     "data": {
      "text/plain": [
       "[{'id': 1, 'name': 'good'},\n",
       " {'id': 2, 'name': 'broken_or_misplaced lead'},\n",
       " {'id': 3, 'name': 'misplaced transistor'},\n",
       " {'id': 4, 'name': 'damaged casing'}]"
      ]
     },
     "execution_count": 181,
     "metadata": {},
     "output_type": "execute_result"
    }
   ],
   "source": [
    "with open(dataset_coco, \"r\") as f:\n",
    "    coco = json.load(f)\n",
    "    \n",
    "categories = coco[\"categories\"]\n",
    "categories\n"
   ]
  },
  {
   "cell_type": "code",
   "execution_count": 182,
   "metadata": {},
   "outputs": [
    {
     "data": {
      "text/plain": [
       "{'good': 0,\n",
       " 'broken_or_misplaced lead': 1,\n",
       " 'misplaced transistor': 2,\n",
       " 'damaged casing': 3}"
      ]
     },
     "execution_count": 182,
     "metadata": {},
     "output_type": "execute_result"
    }
   ],
   "source": [
    "category_name_to_class_id = {d[\"name\"] : d[\"id\"] -1 for d in categories}\n",
    "category_name_to_class_id"
   ]
  },
  {
   "cell_type": "code",
   "execution_count": 183,
   "metadata": {},
   "outputs": [
    {
     "data": {
      "text/plain": [
       "[{'sample_idx': 0,\n",
       "  'response': '```json\\n{\\n  \"is_defective\": \"yes\",\\n  \"reason\": \"The left lead of the transistor is deformed and not properly aligned compared to the non-defective transistor.\",\\n  \"defect_type\": \"broken_or_misplaced lead\",\\n  \"bounding_box\": \"[0.2, 0.7, 0.35, 0.95]\"\\n}\\n```',\n",
       "  'target': [[0.0, -1.0, -1.0, -1.0, -1.0]],\n",
       "  'parsed_response': {'is_defective': 'yes',\n",
       "   'reason': 'The left lead of the transistor is deformed and not properly aligned compared to the non-defective transistor.',\n",
       "   'defect_type': 'broken_or_misplaced lead',\n",
       "   'bounding_box': '[0.2, 0.7, 0.35, 0.95]'}},\n",
       " {'sample_idx': 1,\n",
       "  'response': '{\\n\"is_defective\": \"yes\",\\n\"reason\": \"The left lead of the transistor appears to be broken or misplaced compared to the non-defective transistor.\",\\n\"defect_type\": \"broken_or_misplaced_lead\",\\n\"bounding_box\": \"[0.25, 0.7, 0.35, 1.0]\"\\n}',\n",
       "  'target': [[0.0, -1.0, -1.0, -1.0, -1.0]],\n",
       "  'parsed_response': {'is_defective': 'yes',\n",
       "   'reason': 'The left lead of the transistor appears to be broken or misplaced compared to the non-defective transistor.',\n",
       "   'defect_type': 'broken_or_misplaced_lead',\n",
       "   'bounding_box': '[0.25, 0.7, 0.35, 1.0]'}},\n",
       " {'sample_idx': 2,\n",
       "  'response': '{\\n  \"is_defective\": \"yes\",\\n  \"reason\": \"There is a broken lead on the left side. The lead appears to be bent and misaligned compared to the non-defective transistor.\",\\n  \"defect_type\": \"broken_or_misplaced lead\",\\n  \"bounding_box\": \"[0.32, 0.65, 0.48, 0.95]\"\\n}',\n",
       "  'target': [[0.0, -1.0, -1.0, -1.0, -1.0]],\n",
       "  'parsed_response': {'is_defective': 'yes',\n",
       "   'reason': 'There is a broken lead on the left side. The lead appears to be bent and misaligned compared to the non-defective transistor.',\n",
       "   'defect_type': 'broken_or_misplaced lead',\n",
       "   'bounding_box': '[0.32, 0.65, 0.48, 0.95]'}}]"
      ]
     },
     "execution_count": 183,
     "metadata": {},
     "output_type": "execute_result"
    }
   ],
   "source": [
    "with open(responses, \"r\") as f:\n",
    "    results = json.load(f)\n",
    "    \n",
    "results[:3]"
   ]
  },
  {
   "cell_type": "code",
   "execution_count": 184,
   "metadata": {},
   "outputs": [
    {
     "name": "stdout",
     "output_type": "stream",
     "text": [
      "{'yes': 94, 'no': 6, 'other': 0}\n"
     ]
    }
   ],
   "source": [
    "is_defective_types = set()\n",
    "is_defective_count = {\"yes\": 0, \"no\": 0, \"other\": 0}\n",
    "\n",
    "for result in results:\n",
    "    is_defective_type = result[\"parsed_response\"][\"is_defective\"]\n",
    "    if is_defective_type not in is_defective_count:\n",
    "        is_defective_count[\"other\"] += 1\n",
    "    else:\n",
    "        is_defective_count[is_defective_type] += 1\n",
    "    is_defective_types.add(is_defective_type)\n",
    "    \n",
    "\n",
    "is_defective_types\n",
    "print(is_defective_count)"
   ]
  },
  {
   "cell_type": "code",
   "execution_count": 185,
   "metadata": {},
   "outputs": [
    {
     "data": {
      "text/plain": [
       "{'',\n",
       " 'broken_or_misplaced lead',\n",
       " 'broken_or_misplaced_lead',\n",
       " 'damaged casing',\n",
       " 'misplaced transistor'}"
      ]
     },
     "execution_count": 185,
     "metadata": {},
     "output_type": "execute_result"
    }
   ],
   "source": [
    "defect_types = set()\n",
    "\n",
    "for result in results:\n",
    "    defect_type = result[\"parsed_response\"][\"defect_type\"]\n",
    "    defect_types.add(defect_type)\n",
    "\n",
    "defect_types"
   ]
  },
  {
   "cell_type": "code",
   "execution_count": 186,
   "metadata": {},
   "outputs": [
    {
     "data": {
      "text/plain": [
       "['',\n",
       " 'damaged casing',\n",
       " 'broken_or_misplaced lead',\n",
       " 'misplaced transistor',\n",
       " 'broken_or_misplaced_lead']"
      ]
     },
     "execution_count": 186,
     "metadata": {},
     "output_type": "execute_result"
    }
   ],
   "source": [
    "defect_types = list(defect_types)\n",
    "defect_types"
   ]
  },
  {
   "cell_type": "code",
   "execution_count": 187,
   "metadata": {},
   "outputs": [
    {
     "data": {
      "text/plain": [
       "[[''],\n",
       " ['damaged casing'],\n",
       " ['broken_or_misplaced lead'],\n",
       " ['misplaced transistor'],\n",
       " ['broken_or_misplaced_lead']]"
      ]
     },
     "execution_count": 187,
     "metadata": {},
     "output_type": "execute_result"
    }
   ],
   "source": [
    "# Split multiple defect types\n",
    "defect_types = [defect_type.split(\", \") for defect_type in defect_types]\n",
    "defect_types"
   ]
  },
  {
   "cell_type": "code",
   "execution_count": 188,
   "metadata": {},
   "outputs": [],
   "source": [
    "def calculate_iou(box1, box2):\n",
    "    \"\"\"\n",
    "    Calculate the Intersection over Union (IoU) of two bounding boxes.\n",
    "\n",
    "    Parameters:\n",
    "    - box1, box2: Lists of 4 coordinates [x_top, y_top, x_bottom, y_bottom].\n",
    "\n",
    "    Returns:\n",
    "    - IoU as a float value.\n",
    "    \"\"\"\n",
    "    # Unpack the coordinates\n",
    "    x1_top, y1_top, x1_bottom, y1_bottom = box1\n",
    "    x2_top, y2_top, x2_bottom, y2_bottom = box2\n",
    "\n",
    "    # Calculate the (x, y)-coordinates of the intersection rectangle\n",
    "    x_inter_top = max(x1_top, x2_top)\n",
    "    y_inter_top = max(y1_top, y2_top)\n",
    "    x_inter_bottom = min(x1_bottom, x2_bottom)\n",
    "    y_inter_bottom = min(y1_bottom, y2_bottom)\n",
    "\n",
    "    # Compute the area of intersection rectangle\n",
    "    inter_area = max(0, x_inter_bottom - x_inter_top) * max(0, y_inter_bottom - y_inter_top)\n",
    "\n",
    "    # Compute the area of both the prediction and ground-truth rectangles\n",
    "    box1_area = (x1_bottom - x1_top) * (y1_bottom - y1_top)\n",
    "    box2_area = (x2_bottom - x2_top) * (y2_bottom - y2_top)\n",
    "\n",
    "    # Compute the intersection over union by taking the intersection\n",
    "    # area and dividing it by the sum of prediction + ground-truth\n",
    "    # areas - the interesection area\n",
    "    iou = inter_area / float(box1_area + box2_area - inter_area)\n",
    "\n",
    "    return iou"
   ]
  },
  {
   "cell_type": "code",
   "execution_count": 189,
   "metadata": {},
   "outputs": [
    {
     "name": "stdout",
     "output_type": "stream",
     "text": [
      "0.1418978594440779\n"
     ]
    }
   ],
   "source": [
    "# Calculate the mean IoU\n",
    "\n",
    "total_iou = 0\n",
    "\n",
    "for result in results:\n",
    "    is_defective = result[\"parsed_response\"][\"is_defective\"]\n",
    "    target = result[\"target\"][0][0]\n",
    "     \n",
    "    if (is_defective == \"yes\" and target != 0):\n",
    "        tgt_bbox = result[\"target\"][0][1:]\n",
    "        pred_bbox = result[\"parsed_response\"][\"bounding_box\"]\n",
    "        \n",
    "        try:\n",
    "            pred_bbox = json.loads(pred_bbox) if not isinstance(pred_bbox, list) else pred_bbox\n",
    "        except:\n",
    "            pred_bbox = [0, 0, 0, 0]\n",
    "        iou = calculate_iou(tgt_bbox, pred_bbox)\n",
    "        total_iou += iou\n",
    "        \n",
    "    if (is_defective == \"no\" and target == 0):\n",
    "        total_iou += 1\n",
    "    \n",
    "mean_iou = total_iou / len(results)\n",
    "print(mean_iou)"
   ]
  },
  {
   "cell_type": "code",
   "execution_count": 190,
   "metadata": {},
   "outputs": [
    {
     "name": "stdout",
     "output_type": "stream",
     "text": [
      "100\n",
      "100\n",
      "3 0\n",
      "3 0\n"
     ]
    }
   ],
   "source": [
    "# transistor\n",
    "\n",
    "def get_binarized_scores(responses, num_classes):\n",
    "    targets = []\n",
    "    preds = []\n",
    "    for item in responses:\n",
    "        response = item[\"parsed_response\"]\n",
    "        target_class_id = int(item[\"target\"][0][0])\n",
    "        targets.append((target_class_id))\n",
    "        \n",
    "        if response[\"is_defective\"] == \"no\":\n",
    "            preds.append(0)\n",
    "            continue\n",
    "        elif response[\"is_defective\"] == \"yes\":\n",
    "            pred_class = response[\"defect_type\"]\n",
    "            if pred_class == \"broken_or_misplaced_lead\":\n",
    "                pred_class = \"broken_or_misplaced lead\"\n",
    "            \n",
    "            pred_class_id = category_name_to_class_id[pred_class]\n",
    "            preds.append(pred_class_id)\n",
    "        \n",
    "    return preds, targets\n",
    "            \n",
    "    \n",
    "\n",
    "preds, targets = get_binarized_scores(results, num_classes=4)\n",
    "print(len(preds))\n",
    "print(len(targets))\n",
    "    \n",
    "print(max(preds), min(preds))\n",
    "print(max(targets), min(targets))"
   ]
  },
  {
   "cell_type": "code",
   "execution_count": 191,
   "metadata": {},
   "outputs": [],
   "source": [
    "# # screw\n",
    "\n",
    "# def get_binarized_scores(responses, num_classes):\n",
    "#     targets = []\n",
    "#     preds = []\n",
    "#     for item in responses:\n",
    "#         response = item[\"parsed_response\"]\n",
    "#         target_class_id = int(item[\"target\"][0][0])\n",
    "#         targets.append((target_class_id))\n",
    "        \n",
    "#         if response[\"is_defective\"] == \"no\":\n",
    "#             preds.append(0)\n",
    "#             continue\n",
    "#         elif response[\"is_defective\"] == \"yes\":\n",
    "#             pred_class = response[\"defect_type\"]\n",
    "            \n",
    "#             if pred_class == \"damaged-thread\":\n",
    "#                 pred_class = \"damaged thread\"\n",
    "            \n",
    "#             if \", \" in pred_class:\n",
    "#                 pred_classes = pred_class.split(\", \")\n",
    "#                 for _class in pred_classes:\n",
    "#                     pred_class_id = category_name_to_class_id[_class]\n",
    "#             else:\n",
    "#                 pred_class_id = category_name_to_class_id[pred_class]        \n",
    "            \n",
    "            \n",
    "#             preds.append(pred_class_id)\n",
    "        \n",
    "#     return preds, targets\n",
    "            \n",
    "    \n",
    "\n",
    "# preds, targets = get_binarized_scores(results, num_classes=5)\n",
    "# print(len(preds))\n",
    "# print(len(targets))\n",
    "    \n",
    "# print(max(preds), min(preds))\n",
    "# print(max(targets), min(targets))"
   ]
  },
  {
   "cell_type": "code",
   "execution_count": 192,
   "metadata": {},
   "outputs": [],
   "source": [
    "# # transistor\n",
    "\n",
    "# def get_binarized_scores(responses, num_classes):\n",
    "#     targets = []\n",
    "#     preds = []\n",
    "#     for item in responses:\n",
    "#         response = item[\"parsed_response\"]\n",
    "#         target_class_id = int(item[\"target\"][0][0])\n",
    "#         targets.append((target_class_id))\n",
    "        \n",
    "#         if response[\"is_defective\"] == \"no\":\n",
    "#             preds.append(0)\n",
    "#             continue\n",
    "#         elif response[\"is_defective\"] == \"yes\":\n",
    "#             pred_class = response[\"defect_type\"]\n",
    "           \n",
    "            \n",
    "#             pred_class_id = category_name_to_class_id[pred_class]\n",
    "#             preds.append(pred_class_id)\n",
    "        \n",
    "#     return preds, targets\n",
    "            \n",
    "    \n",
    "\n",
    "# preds, targets = get_binarized_scores(results, num_classes=3)\n",
    "# print(len(preds))\n",
    "# print(len(targets))\n",
    "    \n",
    "# print(max(preds), min(preds))\n",
    "# print(max(targets), min(targets))"
   ]
  },
  {
   "cell_type": "code",
   "execution_count": 193,
   "metadata": {},
   "outputs": [],
   "source": [
    "# # metal plate\n",
    "\n",
    "# def get_binarized_scores(responses, num_classes):\n",
    "#     targets = []\n",
    "#     preds = []\n",
    "#     for item in responses:\n",
    "#         response = item[\"parsed_response\"]\n",
    "#         target_class_id = int(item[\"target\"][0][0])\n",
    "#         targets.append((target_class_id))\n",
    "        \n",
    "#         if response[\"is_defective\"] == \"no\":\n",
    "#             preds.append(0)\n",
    "#             continue\n",
    "#         elif response[\"is_defective\"] == \"yes\":\n",
    "#             pred_class = response[\"defect_type\"]\n",
    "#             pred_class = pred_class.split(\", \")[0]\n",
    "           \n",
    "            \n",
    "#             pred_class_id = category_name_to_class_id[pred_class]\n",
    "#             preds.append(pred_class_id)\n",
    "        \n",
    "#     return preds, targets\n",
    "            \n",
    "    \n",
    "\n",
    "# preds, targets = get_binarized_scores(results, num_classes=3)\n",
    "# print(len(preds))\n",
    "# print(len(targets))\n",
    "    \n",
    "# print(max(preds), min(preds))\n",
    "# print(max(targets), min(targets))"
   ]
  },
  {
   "cell_type": "code",
   "execution_count": 194,
   "metadata": {},
   "outputs": [],
   "source": [
    "from sklearn.metrics import f1_score"
   ]
  },
  {
   "cell_type": "code",
   "execution_count": 195,
   "metadata": {},
   "outputs": [
    {
     "data": {
      "text/plain": [
       "0.447011322011322"
      ]
     },
     "execution_count": 195,
     "metadata": {},
     "output_type": "execute_result"
    }
   ],
   "source": [
    "f1_score(targets, preds, average=\"macro\")"
   ]
  },
  {
   "cell_type": "code",
   "execution_count": null,
   "metadata": {},
   "outputs": [],
   "source": []
  },
  {
   "cell_type": "code",
   "execution_count": null,
   "metadata": {},
   "outputs": [],
   "source": []
  }
 ],
 "metadata": {
  "kernelspec": {
   "display_name": "myenv",
   "language": "python",
   "name": "python3"
  },
  "language_info": {
   "codemirror_mode": {
    "name": "ipython",
    "version": 3
   },
   "file_extension": ".py",
   "mimetype": "text/x-python",
   "name": "python",
   "nbconvert_exporter": "python",
   "pygments_lexer": "ipython3",
   "version": "3.12.3"
  }
 },
 "nbformat": 4,
 "nbformat_minor": 2
}
